{
 "cells": [
  {
   "cell_type": "code",
   "execution_count": null,
   "id": "15ef6ad9-dce1-4844-87fb-d73939ba146c",
   "metadata": {},
   "outputs": [],
   "source": [
    "#=============================================================================\n",
    "# Solar Farm Semantic Segmentation with U-Net - Reed Johnson - Mask/Tile Pairs \n",
    "# -----------------------------------------------------------------------------\n",
    "\n",
    "# -------------------- Import Libraries --------------------\n",
    "import os\n",
    "from PIL import Image\n",
    "import matplotlib.pyplot as plt\n",
    "import numpy as np"
   ]
  },
  {
   "cell_type": "code",
   "execution_count": null,
   "id": "87ad6691-9e9b-4e0a-9c13-117cf6b6b1b2",
   "metadata": {},
   "outputs": [],
   "source": [
    "# -------------------- Set Paths --------------------\n",
    "# Input image tiles, ground truth masks, and predicted masks\n",
    "image_dir = \"/workspace/data_to_runpod/tiles_1024ft_v2\"\n",
    "mask_dir = \"/workspace/data_to_runpod/masks_1024ft_v2\"\n",
    "pred_dir = \"/workspace/outputs\"\n"
   ]
  },
  {
   "cell_type": "code",
   "execution_count": null,
   "id": "9901c5d6-a6c7-44f3-9a36-36d536ebb7da",
   "metadata": {},
   "outputs": [],
   "source": [
    "# Output folder for saving overlay visualizations\n",
    "output_dir = \"/workspace/presentation_overlays\"\n",
    "os.makedirs(output_dir, exist_ok=True)"
   ]
  },
  {
   "cell_type": "code",
   "execution_count": null,
   "id": "a57148bb-987e-4c0a-9d90-7216f34ac3bb",
   "metadata": {},
   "outputs": [],
   "source": [
    "# -------------------- Collect Files --------------------\n",
    "# Get list of image files that have corresponding prediction masks\n",
    "image_files = sorted([\n",
    "    f for f in os.listdir(image_dir)\n",
    "    if f.endswith(\".png\") and os.path.exists(os.path.join(pred_dir, f.replace(\".png\", \"_pred.png\")))\n",
    "])"
   ]
  },
  {
   "cell_type": "code",
   "execution_count": null,
   "id": "28a8586c-94e9-4187-84d3-4eb87468bd32",
   "metadata": {},
   "outputs": [],
   "source": [
    "# ----------------- Define Loaders --------------------\n",
    "def load_image(path):\n",
    "    # Load RGB image as NumPy array\n",
    "    return np.array(Image.open(path).convert(\"RGB\"))\n",
    "\n",
    "def load_mask(path):\n",
    "    # Load mask, convert to binary mask\n",
    "    mask = np.array(Image.open(path).convert(\"L\"))\n",
    "    return (mask == 255).astype(np.uint8)\n",
    "\n",
    "# ---------------- Define Overlay Function ----------------\n",
    "def overlay_mask(image, mask, color=(255, 0, 255), alpha=0.5):\n",
    "    overlay = image.copy()\n",
    "    color = np.array(color).reshape(1, 1, 3)\n",
    "    mask_expanded = np.expand_dims(mask, axis=-1)\n",
    "    overlay = np.where(mask_expanded, (1 - alpha) * image + alpha * color, image).astype(np.uint8)\n",
    "    return overlay\n",
    "\n",
    "# --------------------Define Save Overlay --------------------\n",
    "def save_overlay(image, gt_mask, pred_mask, title, out_path):\n",
    "    fig, axs = plt.subplots(1, 2, figsize=(10, 5))\n",
    "\n",
    "    overlay_gt = overlay_mask(image, gt_mask, color=(128, 0, 128), alpha=0.5)   # Purple: Ground Truth Mask\n",
    "    overlay_pred = overlay_mask(image, pred_mask, color=(255, 255, 0), alpha=0.5)  # Yellow: Prediction Mask\n",
    "\n",
    "    axs[0].imshow(overlay_gt)\n",
    "    axs[0].set_title(\"Ground Truth\")\n",
    "    axs[0].axis(\"off\")\n",
    "\n",
    "    axs[1].imshow(overlay_pred)\n",
    "    axs[1].set_title(\"Prediction\")\n",
    "    axs[1].axis(\"off\")\n",
    "\n",
    "    fig.suptitle(title, fontsize=12)\n",
    "    plt.tight_layout()\n",
    "    fig.savefig(out_path, dpi=150)\n",
    "    plt.close(fig)\n"
   ]
  },
  {
   "cell_type": "code",
   "execution_count": null,
   "id": "ba682c54-cbab-4304-b425-0b6cc820e65f",
   "metadata": {},
   "outputs": [],
   "source": [
    "# -------------------- Generate PNGs --------------------\n",
    "# Loop through matched image files and generate overlay comparisons\n",
    "for fname in image_files[:100]:\n",
    "    image_path = os.path.join(image_dir, fname)\n",
    "    mask_path = os.path.join(mask_dir, fname.replace(\"tile_\", \"mask_\"))\n",
    "    pred_path = os.path.join(pred_dir, fname.replace(\".png\", \"_pred.png\"))\n",
    "\n",
    "    image = load_image(image_path)\n",
    "    mask = load_mask(mask_path)\n",
    "    pred = load_mask(pred_path)\n",
    "\n",
    "    out_file = os.path.join(output_dir, fname.replace(\".png\", \"_overlay.png\"))\n",
    "    save_overlay(image, mask, pred, title=fname, out_path=out_file)"
   ]
  }
 ],
 "metadata": {
  "kernelspec": {
   "display_name": "Python 3 (ipykernel)",
   "language": "python",
   "name": "python3"
  },
  "language_info": {
   "codemirror_mode": {
    "name": "ipython",
    "version": 3
   },
   "file_extension": ".py",
   "mimetype": "text/x-python",
   "name": "python",
   "nbconvert_exporter": "python",
   "pygments_lexer": "ipython3",
   "version": "3.10.12"
  }
 },
 "nbformat": 4,
 "nbformat_minor": 5
}
