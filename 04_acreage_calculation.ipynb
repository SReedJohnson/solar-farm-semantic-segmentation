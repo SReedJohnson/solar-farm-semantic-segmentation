{
 "cells": [
  {
   "cell_type": "code",
   "execution_count": null,
   "id": "fd0a2290-eab7-4f53-8c94-1c73e9ba94af",
   "metadata": {},
   "outputs": [],
   "source": [
    "#=============================================================================\n",
    "# Solar Farm Semantic Segmentation with U-Net - Reed Johnson - Acreage Calculation\n",
    "# -----------------------------------------------------------------------------\n",
    "\n",
    "# -------------------- Import Libraries --------------------\n",
    "import os\n",
    "from PIL import Image\n",
    "import numpy as np"
   ]
  },
  {
   "cell_type": "code",
   "execution_count": null,
   "id": "1f859700-e866-4912-b888-c8d6269f6974",
   "metadata": {},
   "outputs": [],
   "source": [
    "# -------------------- Set Paths and Parameters --------------------\n",
    "mask_dir = \"/workspace/data_to_runpod/masks_1024ft_v2\"\n",
    "pred_dir = \"/workspace/outputs\"\n",
    "\n",
    "tile_size_ft = 1024\n",
    "image_dim_px = 512\n",
    "pixel_area_sqft = (tile_size_ft / image_dim_px) ** 2"
   ]
  },
  {
   "cell_type": "code",
   "execution_count": null,
   "id": "5ab9417d-d406-4f3c-b5ad-0420b306c9bb",
   "metadata": {},
   "outputs": [],
   "source": [
    "# -------------------- Mask Loading Function --------------------\n",
    "# Converts grayscale image to binary mask: 1 where pixel == 255, else 0\n",
    "def load_binary_mask(path):\n",
    "    mask = np.array(Image.open(path).convert(\"L\"))\n",
    "    return (mask == 255).astype(np.uint8)"
   ]
  },
  {
   "cell_type": "code",
   "execution_count": null,
   "id": "7a255afa-976c-4c35-a867-fd7735adb3c2",
   "metadata": {},
   "outputs": [],
   "source": [
    "# -------------------- Collect Matched Mask Files --------------------\n",
    "# Only include masks with corresponding predictions\n",
    "mask_files = sorted([\n",
    "    f for f in os.listdir(mask_dir)\n",
    "    if f.endswith(\".png\") and os.path.exists(os.path.join(pred_dir, f.replace(\"mask_\", \"tile_\").replace(\".png\", \"_pred.png\")))\n",
    "])"
   ]
  },
  {
   "cell_type": "code",
   "execution_count": null,
   "id": "2e3b8e75-9ae8-4fd2-acc8-e2dcb1f3a761",
   "metadata": {},
   "outputs": [],
   "source": [
    "# ----------------------- Pixel Counts -----------------------\n",
    "total_mask_pixels = 0\n",
    "total_pred_pixels = 0\n",
    "\n",
    "for fname in mask_files:\n",
    "    mask_path = os.path.join(mask_dir, fname)\n",
    "    pred_path = os.path.join(pred_dir, fname.replace(\"mask_\", \"tile_\").replace(\".png\", \"_pred.png\"))\n",
    "\n",
    "    gt_mask = load_binary_mask(mask_path)  # Ground truth\n",
    "    pred_mask = load_binary_mask(pred_path)  # Prediction\n",
    "\n",
    "    total_mask_pixels += np.sum(gt_mask)  # Count pixels with value 1\n",
    "    total_pred_pixels += np.sum(pred_mask)"
   ]
  },
  {
   "cell_type": "code",
   "execution_count": null,
   "id": "8724cb61-0d07-4b6f-9d55-9c69864c2adb",
   "metadata": {},
   "outputs": [],
   "source": [
    "# -------------------- Area Conversion --------------------\n",
    "total_mask_area_sqft = total_mask_pixels * pixel_area_sqft\n",
    "total_pred_area_sqft = total_pred_pixels * pixel_area_sqft\n",
    "\n",
    "sqft_per_acre = 43560 #sqft per acre\n",
    "total_mask_area_acres = total_mask_area_sqft / sqft_per_acre\n",
    "total_pred_area_acres = total_pred_area_sqft / sqft_per_acre"
   ]
  },
  {
   "cell_type": "code",
   "execution_count": null,
   "id": "6b857633-0d53-4da7-a12b-4346375c90d9",
   "metadata": {},
   "outputs": [
    {
     "name": "stdout",
     "output_type": "stream",
     "text": [
      "Ground Truth Mask Area: 7,009,248 sq ft (160.91 acres)\n",
      "Predicted Mask Area: 6,590,044 sq ft (151.29 acres)\n"
     ]
    }
   ],
   "source": [
    "# -------------------- Print Output --------------------\n",
    "print(f\"Ground Truth Mask Area: {total_mask_area_sqft:,.0f} sq ft ({total_mask_area_acres:.2f} acres)\")\n",
    "print(f\"Predicted Mask Area: {total_pred_area_sqft:,.0f} sq ft ({total_pred_area_acres:.2f} acres)\")"
   ]
  }
 ],
 "metadata": {
  "kernelspec": {
   "display_name": "Python 3 (ipykernel)",
   "language": "python",
   "name": "python3"
  },
  "language_info": {
   "codemirror_mode": {
    "name": "ipython",
    "version": 3
   },
   "file_extension": ".py",
   "mimetype": "text/x-python",
   "name": "python",
   "nbconvert_exporter": "python",
   "pygments_lexer": "ipython3",
   "version": "3.10.12"
  }
 },
 "nbformat": 4,
 "nbformat_minor": 5
}
